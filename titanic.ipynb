{
 "cells": [
  {
   "cell_type": "code",
   "execution_count": 1,
   "metadata": {},
   "outputs": [
    {
     "name": "stdout",
     "output_type": "stream",
     "text": [
      "Requirement already up-to-date: fastai in /Library/Frameworks/Python.framework/Versions/3.7/lib/python3.7/site-packages (1.0.57)\n",
      "Requirement already satisfied, skipping upgrade: torchvision in /Library/Frameworks/Python.framework/Versions/3.7/lib/python3.7/site-packages (from fastai) (0.3.0)\n",
      "Requirement already satisfied, skipping upgrade: torch>=1.0.0 in /Library/Frameworks/Python.framework/Versions/3.7/lib/python3.7/site-packages (from fastai) (1.1.0.post2)\n",
      "Requirement already satisfied, skipping upgrade: pyyaml in /Library/Frameworks/Python.framework/Versions/3.7/lib/python3.7/site-packages (from fastai) (5.1.2)\n",
      "Requirement already satisfied, skipping upgrade: scipy in /Library/Frameworks/Python.framework/Versions/3.7/lib/python3.7/site-packages (from fastai) (1.3.0)\n",
      "Requirement already satisfied, skipping upgrade: pandas in /Library/Frameworks/Python.framework/Versions/3.7/lib/python3.7/site-packages (from fastai) (0.25.0)\n",
      "Requirement already satisfied, skipping upgrade: beautifulsoup4 in /Library/Frameworks/Python.framework/Versions/3.7/lib/python3.7/site-packages (from fastai) (4.8.0)\n",
      "Requirement already satisfied, skipping upgrade: numpy>=1.15 in /Library/Frameworks/Python.framework/Versions/3.7/lib/python3.7/site-packages (from fastai) (1.17.0)\n",
      "Requirement already satisfied, skipping upgrade: spacy>=2.0.18 in /Library/Frameworks/Python.framework/Versions/3.7/lib/python3.7/site-packages (from fastai) (2.1.7)\n",
      "Requirement already satisfied, skipping upgrade: Pillow in /Library/Frameworks/Python.framework/Versions/3.7/lib/python3.7/site-packages (from fastai) (6.1.0)\n",
      "Requirement already satisfied, skipping upgrade: fastprogress>=0.1.19 in /Library/Frameworks/Python.framework/Versions/3.7/lib/python3.7/site-packages (from fastai) (0.1.21)\n",
      "Requirement already satisfied, skipping upgrade: matplotlib in /Library/Frameworks/Python.framework/Versions/3.7/lib/python3.7/site-packages (from fastai) (3.1.1)\n",
      "Requirement already satisfied, skipping upgrade: numexpr in /Library/Frameworks/Python.framework/Versions/3.7/lib/python3.7/site-packages (from fastai) (2.6.9)\n",
      "Requirement already satisfied, skipping upgrade: bottleneck in /Library/Frameworks/Python.framework/Versions/3.7/lib/python3.7/site-packages (from fastai) (1.2.1)\n",
      "Requirement already satisfied, skipping upgrade: nvidia-ml-py3 in /Library/Frameworks/Python.framework/Versions/3.7/lib/python3.7/site-packages (from fastai) (7.352.0)\n",
      "Requirement already satisfied, skipping upgrade: packaging in /Library/Frameworks/Python.framework/Versions/3.7/lib/python3.7/site-packages (from fastai) (19.1)\n",
      "Requirement already satisfied, skipping upgrade: pynvx>=1.0.0; platform_system == \"Darwin\" in /Library/Frameworks/Python.framework/Versions/3.7/lib/python3.7/site-packages (from fastai) (1.0.0)\n",
      "Requirement already satisfied, skipping upgrade: requests in /Library/Frameworks/Python.framework/Versions/3.7/lib/python3.7/site-packages (from fastai) (2.22.0)\n",
      "Requirement already satisfied, skipping upgrade: six in /Users/vasanth.gopal/Library/Python/3.7/lib/python/site-packages (from torchvision->fastai) (1.12.0)\n",
      "Requirement already satisfied, skipping upgrade: pytz>=2017.2 in /Library/Frameworks/Python.framework/Versions/3.7/lib/python3.7/site-packages (from pandas->fastai) (2019.2)\n",
      "Requirement already satisfied, skipping upgrade: python-dateutil>=2.6.1 in /Library/Frameworks/Python.framework/Versions/3.7/lib/python3.7/site-packages (from pandas->fastai) (2.8.0)\n",
      "Requirement already satisfied, skipping upgrade: soupsieve>=1.2 in /Library/Frameworks/Python.framework/Versions/3.7/lib/python3.7/site-packages (from beautifulsoup4->fastai) (1.9.2)\n",
      "Requirement already satisfied, skipping upgrade: srsly<1.1.0,>=0.0.6 in /Library/Frameworks/Python.framework/Versions/3.7/lib/python3.7/site-packages (from spacy>=2.0.18->fastai) (0.0.7)\n",
      "Requirement already satisfied, skipping upgrade: wasabi<1.1.0,>=0.2.0 in /Library/Frameworks/Python.framework/Versions/3.7/lib/python3.7/site-packages (from spacy>=2.0.18->fastai) (0.2.2)\n",
      "Requirement already satisfied, skipping upgrade: murmurhash<1.1.0,>=0.28.0 in /Library/Frameworks/Python.framework/Versions/3.7/lib/python3.7/site-packages (from spacy>=2.0.18->fastai) (1.0.2)\n",
      "Requirement already satisfied, skipping upgrade: cymem<2.1.0,>=2.0.2 in /Library/Frameworks/Python.framework/Versions/3.7/lib/python3.7/site-packages (from spacy>=2.0.18->fastai) (2.0.2)\n",
      "Requirement already satisfied, skipping upgrade: thinc<7.1.0,>=7.0.8 in /Library/Frameworks/Python.framework/Versions/3.7/lib/python3.7/site-packages (from spacy>=2.0.18->fastai) (7.0.8)\n",
      "Requirement already satisfied, skipping upgrade: plac<1.0.0,>=0.9.6 in /Library/Frameworks/Python.framework/Versions/3.7/lib/python3.7/site-packages (from spacy>=2.0.18->fastai) (0.9.6)\n",
      "Requirement already satisfied, skipping upgrade: blis<0.3.0,>=0.2.2 in /Library/Frameworks/Python.framework/Versions/3.7/lib/python3.7/site-packages (from spacy>=2.0.18->fastai) (0.2.4)\n",
      "Requirement already satisfied, skipping upgrade: preshed<2.1.0,>=2.0.1 in /Library/Frameworks/Python.framework/Versions/3.7/lib/python3.7/site-packages (from spacy>=2.0.18->fastai) (2.0.1)\n",
      "Requirement already satisfied, skipping upgrade: pyparsing!=2.0.4,!=2.1.2,!=2.1.6,>=2.0.1 in /Library/Frameworks/Python.framework/Versions/3.7/lib/python3.7/site-packages (from matplotlib->fastai) (2.4.2)\n",
      "Requirement already satisfied, skipping upgrade: kiwisolver>=1.0.1 in /Library/Frameworks/Python.framework/Versions/3.7/lib/python3.7/site-packages (from matplotlib->fastai) (1.1.0)\n",
      "Requirement already satisfied, skipping upgrade: cycler>=0.10 in /Library/Frameworks/Python.framework/Versions/3.7/lib/python3.7/site-packages (from matplotlib->fastai) (0.10.0)\n",
      "Requirement already satisfied, skipping upgrade: attrs in /Library/Frameworks/Python.framework/Versions/3.7/lib/python3.7/site-packages (from packaging->fastai) (19.1.0)\n",
      "Requirement already satisfied, skipping upgrade: urllib3!=1.25.0,!=1.25.1,<1.26,>=1.21.1 in /Library/Frameworks/Python.framework/Versions/3.7/lib/python3.7/site-packages (from requests->fastai) (1.25.3)\n",
      "Requirement already satisfied, skipping upgrade: chardet<3.1.0,>=3.0.2 in /Library/Frameworks/Python.framework/Versions/3.7/lib/python3.7/site-packages (from requests->fastai) (3.0.4)\n",
      "Requirement already satisfied, skipping upgrade: idna<2.9,>=2.5 in /Library/Frameworks/Python.framework/Versions/3.7/lib/python3.7/site-packages (from requests->fastai) (2.8)\n",
      "Requirement already satisfied, skipping upgrade: certifi>=2017.4.17 in /Library/Frameworks/Python.framework/Versions/3.7/lib/python3.7/site-packages (from requests->fastai) (2019.6.16)\n",
      "Requirement already satisfied, skipping upgrade: tqdm<5.0.0,>=4.10.0 in /Library/Frameworks/Python.framework/Versions/3.7/lib/python3.7/site-packages (from thinc<7.1.0,>=7.0.8->spacy>=2.0.18->fastai) (4.32.2)\n",
      "Requirement already satisfied, skipping upgrade: setuptools in /Library/Frameworks/Python.framework/Versions/3.7/lib/python3.7/site-packages (from kiwisolver>=1.0.1->matplotlib->fastai) (40.8.0)\n"
     ]
    }
   ],
   "source": [
    "!pip install fastai --upgrade\n"
   ]
  },
  {
   "cell_type": "code",
   "execution_count": 2,
   "metadata": {},
   "outputs": [],
   "source": [
    "from fastai import *\n",
    "from fastai.tabular import *"
   ]
  },
  {
   "cell_type": "code",
   "execution_count": 3,
   "metadata": {},
   "outputs": [],
   "source": [
    "input_path = './'\n",
    "train_df = pd.read_csv(f'{input_path}train.csv')\n",
    "test_df = pd.read_csv(f'{input_path}test.csv')"
   ]
  },
  {
   "cell_type": "code",
   "execution_count": 4,
   "metadata": {},
   "outputs": [],
   "source": [
    "for df in [train_df, test_df]:\n",
    "    df['Title'] = df['Name'].str.split(',').str[1].str.split(' ').str[1]\n",
    "    df['Deck'] = df['Cabin'].str[0]"
   ]
  },
  {
   "cell_type": "code",
   "execution_count": 5,
   "metadata": {},
   "outputs": [],
   "source": [
    "all_df = pd.concat([train_df, test_df], sort=False)\n",
    "mean_age_by_title = all_df.groupby('Title').mean()['Age']"
   ]
  },
  {
   "cell_type": "code",
   "execution_count": 6,
   "metadata": {},
   "outputs": [],
   "source": [
    "for df in [train_df, test_df]:\n",
    "    for title, age in mean_age_by_title.iteritems():\n",
    "        df.loc[df['Age'].isnull() & (df['Title'] == title), 'Age'] = age"
   ]
  },
  {
   "cell_type": "code",
   "execution_count": 8,
   "metadata": {},
   "outputs": [],
   "source": [
    "mean_fare_by_title = all_df.groupby('Title').mean()['Fare']"
   ]
  },
  {
   "cell_type": "code",
   "execution_count": 9,
   "metadata": {},
   "outputs": [],
   "source": [
    "for df in [train_df, test_df]:\n",
    "    for title, fare in mean_fare_by_title.iteritems():\n",
    "        df.loc[df['Fare'].isnull() & (df['Title'] == title), 'Fare'] = fare"
   ]
  },
  {
   "cell_type": "code",
   "execution_count": 10,
   "metadata": {},
   "outputs": [],
   "source": [
    "dep_var = 'Survived'\n",
    "cat_names = ['Pclass', 'Sex', 'Embarked', 'Title', 'Deck']\n",
    "cont_names = ['Age', 'Fare', 'SibSp', 'Parch']\n",
    "procs = [FillMissing, Categorify, Normalize]\n",
    "\n",
    "test = TabularList.from_df(test_df, cat_names=cat_names, cont_names=cont_names, procs=procs)\n",
    "data = (TabularList.from_df(train_df, path='.', cat_names=cat_names, cont_names=cont_names, procs=procs)\n",
    "                           .split_by_idx(list(range(0,200)))\n",
    "                           .label_from_df(cols=dep_var)\n",
    "                           .add_test(test, label=0)\n",
    "                           .databunch())"
   ]
  },
  {
   "cell_type": "code",
   "execution_count": 11,
   "metadata": {},
   "outputs": [
    {
     "data": {
      "text/html": [
       "<table border=\"1\" class=\"dataframe\">\n",
       "  <thead>\n",
       "    <tr style=\"text-align: left;\">\n",
       "      <th>epoch</th>\n",
       "      <th>train_loss</th>\n",
       "      <th>valid_loss</th>\n",
       "      <th>accuracy</th>\n",
       "      <th>time</th>\n",
       "    </tr>\n",
       "  </thead>\n",
       "  <tbody>\n",
       "    <tr>\n",
       "      <td>0</td>\n",
       "      <td>0.619129</td>\n",
       "      <td>0.664838</td>\n",
       "      <td>0.660000</td>\n",
       "      <td>00:08</td>\n",
       "    </tr>\n",
       "    <tr>\n",
       "      <td>1</td>\n",
       "      <td>0.547597</td>\n",
       "      <td>0.613899</td>\n",
       "      <td>0.680000</td>\n",
       "      <td>00:00</td>\n",
       "    </tr>\n",
       "    <tr>\n",
       "      <td>2</td>\n",
       "      <td>0.507134</td>\n",
       "      <td>0.522237</td>\n",
       "      <td>0.785000</td>\n",
       "      <td>00:00</td>\n",
       "    </tr>\n",
       "    <tr>\n",
       "      <td>3</td>\n",
       "      <td>0.474761</td>\n",
       "      <td>0.457994</td>\n",
       "      <td>0.810000</td>\n",
       "      <td>00:00</td>\n",
       "    </tr>\n",
       "    <tr>\n",
       "      <td>4</td>\n",
       "      <td>0.452457</td>\n",
       "      <td>0.437163</td>\n",
       "      <td>0.820000</td>\n",
       "      <td>00:00</td>\n",
       "    </tr>\n",
       "  </tbody>\n",
       "</table>"
      ],
      "text/plain": [
       "<IPython.core.display.HTML object>"
      ]
     },
     "metadata": {},
     "output_type": "display_data"
    }
   ],
   "source": [
    "np.random.seed(101)\n",
    "learn = tabular_learner(data, layers=[60, 20], metrics=accuracy)\n",
    "learn.fit(5)"
   ]
  },
  {
   "cell_type": "code",
   "execution_count": 12,
   "metadata": {},
   "outputs": [],
   "source": [
    "predictions, *_ = learn.get_preds(DatasetType.Test)\n",
    "labels = np.argmax(predictions, 1)"
   ]
  },
  {
   "cell_type": "code",
   "execution_count": 13,
   "metadata": {},
   "outputs": [],
   "source": [
    "sub_df = pd.DataFrame({'PassengerId': test_df['PassengerId'], 'Survived': labels})\n",
    "sub_df.to_csv('submission.csv', index=False)"
   ]
  },
  {
   "cell_type": "code",
   "execution_count": 14,
   "metadata": {},
   "outputs": [
    {
     "data": {
      "text/html": [
       "<div>\n",
       "<style scoped>\n",
       "    .dataframe tbody tr th:only-of-type {\n",
       "        vertical-align: middle;\n",
       "    }\n",
       "\n",
       "    .dataframe tbody tr th {\n",
       "        vertical-align: top;\n",
       "    }\n",
       "\n",
       "    .dataframe thead th {\n",
       "        text-align: right;\n",
       "    }\n",
       "</style>\n",
       "<table border=\"1\" class=\"dataframe\">\n",
       "  <thead>\n",
       "    <tr style=\"text-align: right;\">\n",
       "      <th></th>\n",
       "      <th>PassengerId</th>\n",
       "      <th>Survived</th>\n",
       "    </tr>\n",
       "  </thead>\n",
       "  <tbody>\n",
       "    <tr>\n",
       "      <th>413</th>\n",
       "      <td>1305</td>\n",
       "      <td>0</td>\n",
       "    </tr>\n",
       "    <tr>\n",
       "      <th>414</th>\n",
       "      <td>1306</td>\n",
       "      <td>1</td>\n",
       "    </tr>\n",
       "    <tr>\n",
       "      <th>415</th>\n",
       "      <td>1307</td>\n",
       "      <td>0</td>\n",
       "    </tr>\n",
       "    <tr>\n",
       "      <th>416</th>\n",
       "      <td>1308</td>\n",
       "      <td>0</td>\n",
       "    </tr>\n",
       "    <tr>\n",
       "      <th>417</th>\n",
       "      <td>1309</td>\n",
       "      <td>1</td>\n",
       "    </tr>\n",
       "  </tbody>\n",
       "</table>\n",
       "</div>"
      ],
      "text/plain": [
       "     PassengerId  Survived\n",
       "413         1305         0\n",
       "414         1306         1\n",
       "415         1307         0\n",
       "416         1308         0\n",
       "417         1309         1"
      ]
     },
     "execution_count": 14,
     "metadata": {},
     "output_type": "execute_result"
    }
   ],
   "source": [
    "sub_df.tail()"
   ]
  },
  {
   "cell_type": "code",
   "execution_count": 17,
   "metadata": {},
   "outputs": [
    {
     "data": {
      "text/html": [
       "<a download=\"data.csv\" href=\"data:text/csv;base64,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\" target=\"_blank\">Download CSV file</a>"
      ],
      "text/plain": [
       "<IPython.core.display.HTML object>"
      ]
     },
     "execution_count": 17,
     "metadata": {},
     "output_type": "execute_result"
    }
   ],
   "source": [
    "create_download_link(sub_df)"
   ]
  },
  {
   "cell_type": "code",
   "execution_count": 16,
   "metadata": {},
   "outputs": [],
   "source": [
    "from IPython.display import HTML\n",
    "import base64\n",
    "\n",
    "def create_download_link( df, title = \"Download CSV file\", filename = \"data.csv\"):  \n",
    "    csv = df.to_csv()\n",
    "    b64 = base64.b64encode(csv.encode())\n",
    "    payload = b64.decode()\n",
    "    html = f'<a download=\"{filename}\" href=\"data:text/csv;base64,{payload}\" target=\"_blank\">{title}</a>'\n",
    "    return HTML(html)"
   ]
  },
  {
   "cell_type": "code",
   "execution_count": null,
   "metadata": {},
   "outputs": [],
   "source": []
  }
 ],
 "metadata": {
  "kernelspec": {
   "display_name": "Python 3",
   "language": "python",
   "name": "python3"
  },
  "language_info": {
   "codemirror_mode": {
    "name": "ipython",
    "version": 3
   },
   "file_extension": ".py",
   "mimetype": "text/x-python",
   "name": "python",
   "nbconvert_exporter": "python",
   "pygments_lexer": "ipython3",
   "version": "3.7.4"
  }
 },
 "nbformat": 4,
 "nbformat_minor": 2
}
