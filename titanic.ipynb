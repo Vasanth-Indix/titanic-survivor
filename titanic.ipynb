{
 "cells": [
  {
   "cell_type": "code",
   "execution_count": null,
   "metadata": {},
   "outputs": [],
   "source": [
    "!pip install fastai --upgrade\n"
   ]
  },
  {
   "cell_type": "code",
   "execution_count": 1,
   "metadata": {},
   "outputs": [],
   "source": [
    "from fastai import *\n",
    "from fastai.tabular import *"
   ]
  },
  {
   "cell_type": "code",
   "execution_count": 2,
   "metadata": {},
   "outputs": [],
   "source": [
    "import math"
   ]
  },
  {
   "cell_type": "code",
   "execution_count": 3,
   "metadata": {},
   "outputs": [],
   "source": [
    "input_path = './'\n",
    "train_df = pd.read_csv(f'{input_path}train.csv')\n",
    "test_df = pd.read_csv(f'{input_path}test.csv')"
   ]
  },
  {
   "cell_type": "code",
   "execution_count": 5,
   "metadata": {},
   "outputs": [
    {
     "data": {
      "text/html": [
       "<div>\n",
       "<style scoped>\n",
       "    .dataframe tbody tr th:only-of-type {\n",
       "        vertical-align: middle;\n",
       "    }\n",
       "\n",
       "    .dataframe tbody tr th {\n",
       "        vertical-align: top;\n",
       "    }\n",
       "\n",
       "    .dataframe thead th {\n",
       "        text-align: right;\n",
       "    }\n",
       "</style>\n",
       "<table border=\"1\" class=\"dataframe\">\n",
       "  <thead>\n",
       "    <tr style=\"text-align: right;\">\n",
       "      <th></th>\n",
       "      <th>PassengerId</th>\n",
       "      <th>Survived</th>\n",
       "      <th>Pclass</th>\n",
       "      <th>Name</th>\n",
       "      <th>Sex</th>\n",
       "      <th>Age</th>\n",
       "      <th>SibSp</th>\n",
       "      <th>Parch</th>\n",
       "      <th>Ticket</th>\n",
       "      <th>Fare</th>\n",
       "      <th>Cabin</th>\n",
       "      <th>Embarked</th>\n",
       "    </tr>\n",
       "  </thead>\n",
       "  <tbody>\n",
       "    <tr>\n",
       "      <th>0</th>\n",
       "      <td>1</td>\n",
       "      <td>0</td>\n",
       "      <td>3</td>\n",
       "      <td>Braund, Mr. Owen Harris</td>\n",
       "      <td>male</td>\n",
       "      <td>22.0</td>\n",
       "      <td>1</td>\n",
       "      <td>0</td>\n",
       "      <td>A/5 21171</td>\n",
       "      <td>7.2500</td>\n",
       "      <td>NaN</td>\n",
       "      <td>S</td>\n",
       "    </tr>\n",
       "    <tr>\n",
       "      <th>1</th>\n",
       "      <td>2</td>\n",
       "      <td>1</td>\n",
       "      <td>1</td>\n",
       "      <td>Cumings, Mrs. John Bradley (Florence Briggs Th...</td>\n",
       "      <td>female</td>\n",
       "      <td>38.0</td>\n",
       "      <td>1</td>\n",
       "      <td>0</td>\n",
       "      <td>PC 17599</td>\n",
       "      <td>71.2833</td>\n",
       "      <td>C85</td>\n",
       "      <td>C</td>\n",
       "    </tr>\n",
       "    <tr>\n",
       "      <th>2</th>\n",
       "      <td>3</td>\n",
       "      <td>1</td>\n",
       "      <td>3</td>\n",
       "      <td>Heikkinen, Miss. Laina</td>\n",
       "      <td>female</td>\n",
       "      <td>26.0</td>\n",
       "      <td>0</td>\n",
       "      <td>0</td>\n",
       "      <td>STON/O2. 3101282</td>\n",
       "      <td>7.9250</td>\n",
       "      <td>NaN</td>\n",
       "      <td>S</td>\n",
       "    </tr>\n",
       "    <tr>\n",
       "      <th>3</th>\n",
       "      <td>4</td>\n",
       "      <td>1</td>\n",
       "      <td>1</td>\n",
       "      <td>Futrelle, Mrs. Jacques Heath (Lily May Peel)</td>\n",
       "      <td>female</td>\n",
       "      <td>35.0</td>\n",
       "      <td>1</td>\n",
       "      <td>0</td>\n",
       "      <td>113803</td>\n",
       "      <td>53.1000</td>\n",
       "      <td>C123</td>\n",
       "      <td>S</td>\n",
       "    </tr>\n",
       "    <tr>\n",
       "      <th>4</th>\n",
       "      <td>5</td>\n",
       "      <td>0</td>\n",
       "      <td>3</td>\n",
       "      <td>Allen, Mr. William Henry</td>\n",
       "      <td>male</td>\n",
       "      <td>35.0</td>\n",
       "      <td>0</td>\n",
       "      <td>0</td>\n",
       "      <td>373450</td>\n",
       "      <td>8.0500</td>\n",
       "      <td>NaN</td>\n",
       "      <td>S</td>\n",
       "    </tr>\n",
       "  </tbody>\n",
       "</table>\n",
       "</div>"
      ],
      "text/plain": [
       "   PassengerId  Survived  Pclass  \\\n",
       "0            1         0       3   \n",
       "1            2         1       1   \n",
       "2            3         1       3   \n",
       "3            4         1       1   \n",
       "4            5         0       3   \n",
       "\n",
       "                                                Name     Sex   Age  SibSp  \\\n",
       "0                            Braund, Mr. Owen Harris    male  22.0      1   \n",
       "1  Cumings, Mrs. John Bradley (Florence Briggs Th...  female  38.0      1   \n",
       "2                             Heikkinen, Miss. Laina  female  26.0      0   \n",
       "3       Futrelle, Mrs. Jacques Heath (Lily May Peel)  female  35.0      1   \n",
       "4                           Allen, Mr. William Henry    male  35.0      0   \n",
       "\n",
       "   Parch            Ticket     Fare Cabin Embarked  \n",
       "0      0         A/5 21171   7.2500   NaN        S  \n",
       "1      0          PC 17599  71.2833   C85        C  \n",
       "2      0  STON/O2. 3101282   7.9250   NaN        S  \n",
       "3      0            113803  53.1000  C123        S  \n",
       "4      0            373450   8.0500   NaN        S  "
      ]
     },
     "execution_count": 5,
     "metadata": {},
     "output_type": "execute_result"
    }
   ],
   "source": [
    "train_df.head()"
   ]
  },
  {
   "cell_type": "code",
   "execution_count": 6,
   "metadata": {},
   "outputs": [
    {
     "data": {
      "text/html": [
       "<div>\n",
       "<style scoped>\n",
       "    .dataframe tbody tr th:only-of-type {\n",
       "        vertical-align: middle;\n",
       "    }\n",
       "\n",
       "    .dataframe tbody tr th {\n",
       "        vertical-align: top;\n",
       "    }\n",
       "\n",
       "    .dataframe thead th {\n",
       "        text-align: right;\n",
       "    }\n",
       "</style>\n",
       "<table border=\"1\" class=\"dataframe\">\n",
       "  <thead>\n",
       "    <tr style=\"text-align: right;\">\n",
       "      <th></th>\n",
       "      <th>PassengerId</th>\n",
       "      <th>Pclass</th>\n",
       "      <th>Name</th>\n",
       "      <th>Sex</th>\n",
       "      <th>Age</th>\n",
       "      <th>SibSp</th>\n",
       "      <th>Parch</th>\n",
       "      <th>Ticket</th>\n",
       "      <th>Fare</th>\n",
       "      <th>Cabin</th>\n",
       "      <th>Embarked</th>\n",
       "    </tr>\n",
       "  </thead>\n",
       "  <tbody>\n",
       "    <tr>\n",
       "      <th>0</th>\n",
       "      <td>892</td>\n",
       "      <td>3</td>\n",
       "      <td>Kelly, Mr. James</td>\n",
       "      <td>male</td>\n",
       "      <td>34.5</td>\n",
       "      <td>0</td>\n",
       "      <td>0</td>\n",
       "      <td>330911</td>\n",
       "      <td>7.8292</td>\n",
       "      <td>NaN</td>\n",
       "      <td>Q</td>\n",
       "    </tr>\n",
       "    <tr>\n",
       "      <th>1</th>\n",
       "      <td>893</td>\n",
       "      <td>3</td>\n",
       "      <td>Wilkes, Mrs. James (Ellen Needs)</td>\n",
       "      <td>female</td>\n",
       "      <td>47.0</td>\n",
       "      <td>1</td>\n",
       "      <td>0</td>\n",
       "      <td>363272</td>\n",
       "      <td>7.0000</td>\n",
       "      <td>NaN</td>\n",
       "      <td>S</td>\n",
       "    </tr>\n",
       "    <tr>\n",
       "      <th>2</th>\n",
       "      <td>894</td>\n",
       "      <td>2</td>\n",
       "      <td>Myles, Mr. Thomas Francis</td>\n",
       "      <td>male</td>\n",
       "      <td>62.0</td>\n",
       "      <td>0</td>\n",
       "      <td>0</td>\n",
       "      <td>240276</td>\n",
       "      <td>9.6875</td>\n",
       "      <td>NaN</td>\n",
       "      <td>Q</td>\n",
       "    </tr>\n",
       "    <tr>\n",
       "      <th>3</th>\n",
       "      <td>895</td>\n",
       "      <td>3</td>\n",
       "      <td>Wirz, Mr. Albert</td>\n",
       "      <td>male</td>\n",
       "      <td>27.0</td>\n",
       "      <td>0</td>\n",
       "      <td>0</td>\n",
       "      <td>315154</td>\n",
       "      <td>8.6625</td>\n",
       "      <td>NaN</td>\n",
       "      <td>S</td>\n",
       "    </tr>\n",
       "    <tr>\n",
       "      <th>4</th>\n",
       "      <td>896</td>\n",
       "      <td>3</td>\n",
       "      <td>Hirvonen, Mrs. Alexander (Helga E Lindqvist)</td>\n",
       "      <td>female</td>\n",
       "      <td>22.0</td>\n",
       "      <td>1</td>\n",
       "      <td>1</td>\n",
       "      <td>3101298</td>\n",
       "      <td>12.2875</td>\n",
       "      <td>NaN</td>\n",
       "      <td>S</td>\n",
       "    </tr>\n",
       "  </tbody>\n",
       "</table>\n",
       "</div>"
      ],
      "text/plain": [
       "   PassengerId  Pclass                                          Name     Sex  \\\n",
       "0          892       3                              Kelly, Mr. James    male   \n",
       "1          893       3              Wilkes, Mrs. James (Ellen Needs)  female   \n",
       "2          894       2                     Myles, Mr. Thomas Francis    male   \n",
       "3          895       3                              Wirz, Mr. Albert    male   \n",
       "4          896       3  Hirvonen, Mrs. Alexander (Helga E Lindqvist)  female   \n",
       "\n",
       "    Age  SibSp  Parch   Ticket     Fare Cabin Embarked  \n",
       "0  34.5      0      0   330911   7.8292   NaN        Q  \n",
       "1  47.0      1      0   363272   7.0000   NaN        S  \n",
       "2  62.0      0      0   240276   9.6875   NaN        Q  \n",
       "3  27.0      0      0   315154   8.6625   NaN        S  \n",
       "4  22.0      1      1  3101298  12.2875   NaN        S  "
      ]
     },
     "execution_count": 6,
     "metadata": {},
     "output_type": "execute_result"
    }
   ],
   "source": [
    "test_df.head()"
   ]
  },
  {
   "cell_type": "code",
   "execution_count": 7,
   "metadata": {},
   "outputs": [],
   "source": [
    "for df in [train_df, test_df]:\n",
    "    df['Title'] = df['Name'].str.split(',').str[1].str.split(' ').str[1]\n",
    "    df['Deck'] = df['Cabin'].str[0]"
   ]
  },
  {
   "cell_type": "code",
   "execution_count": 8,
   "metadata": {},
   "outputs": [],
   "source": [
    "all_df = pd.concat([train_df, test_df], sort=False)\n",
    "mean_age_by_title = all_df.groupby(['Title', 'Sex', 'Pclass', 'Parch']).mean()['Age']"
   ]
  },
  {
   "cell_type": "code",
   "execution_count": 9,
   "metadata": {},
   "outputs": [
    {
     "data": {
      "text/plain": [
       "Title  Sex     Pclass  Parch\n",
       "Capt.  male    1       1        70.000000\n",
       "Col.   male    1       0        54.000000\n",
       "Don.   male    1       0        40.000000\n",
       "Dona.  female  1       0        39.000000\n",
       "Dr.    female  1       0        49.000000\n",
       "                                  ...    \n",
       "Ms.    female  3       0        23.720000\n",
       "Rev.   male    2       0        45.333333\n",
       "                       1        29.000000\n",
       "Sir.   male    1       0        49.000000\n",
       "the    female  1       0        33.000000\n",
       "Name: Age, Length: 67, dtype: float64"
      ]
     },
     "execution_count": 9,
     "metadata": {},
     "output_type": "execute_result"
    }
   ],
   "source": [
    "mean_age_by_title"
   ]
  },
  {
   "cell_type": "code",
   "execution_count": 10,
   "metadata": {},
   "outputs": [],
   "source": [
    "for df in [train_df, test_df]:\n",
    "    for cat, age in mean_age_by_title.iteritems():\n",
    "        if math.isnan(age):\n",
    "            print(cat)\n",
    "            print(age)\n",
    "        df.loc[df['Age'].isnull() & \n",
    "               (df['Title'] == cat[0]) & \n",
    "               (df['Sex'] == cat[1]) & \n",
    "               (df['Pclass'] == cat[2]) & \n",
    "               (df['Parch'] == cat[3]), 'Age'] = age\n",
    "        \n",
    "        \n",
    "        "
   ]
  },
  {
   "cell_type": "code",
   "execution_count": 11,
   "metadata": {},
   "outputs": [],
   "source": [
    "mean_fare_by_title = all_df.groupby('Title').mean()['Fare']"
   ]
  },
  {
   "cell_type": "code",
   "execution_count": 12,
   "metadata": {},
   "outputs": [
    {
     "data": {
      "text/plain": [
       "Title\n",
       "Capt.         71.000000\n",
       "Col.          79.518750\n",
       "Don.          27.720800\n",
       "Dona.        108.900000\n",
       "Dr.           53.254687\n",
       "Jonkheer.      0.000000\n",
       "Lady.         39.600000\n",
       "Major.        28.525000\n",
       "Master.       36.008195\n",
       "Miss.         42.684873\n",
       "Mlle.         59.402100\n",
       "Mme.          69.300000\n",
       "Mr.           24.796185\n",
       "Mrs.          50.560723\n",
       "Ms.           10.375000\n",
       "Rev.          18.609375\n",
       "Sir.          56.929200\n",
       "the           86.500000\n",
       "Name: Fare, dtype: float64"
      ]
     },
     "execution_count": 12,
     "metadata": {},
     "output_type": "execute_result"
    }
   ],
   "source": [
    "mean_fare_by_title"
   ]
  },
  {
   "cell_type": "code",
   "execution_count": 13,
   "metadata": {},
   "outputs": [],
   "source": [
    "for df in [train_df, test_df]:\n",
    "    for cat, fare in mean_fare_by_title.iteritems():\n",
    "        df.loc[df['Fare'].isnull() & (df['Title'] == cat), 'Fare'] = fare"
   ]
  },
  {
   "cell_type": "code",
   "execution_count": 14,
   "metadata": {},
   "outputs": [],
   "source": [
    "dep_var = 'Survived'\n",
    "cat_names = ['Pclass', 'Sex', 'Embarked', 'Deck']\n",
    "cont_names = ['Age', 'Fare', 'SibSp', 'Parch']\n",
    "procs = [FillMissing, Categorify, Normalize]\n",
    "\n",
    "test = TabularList.from_df(test_df, cat_names=cat_names, cont_names=cont_names, procs=procs)\n",
    "data = (TabularList.from_df(train_df, path='.', cat_names=cat_names, cont_names=cont_names, procs=procs)\n",
    "                           .split_by_idx(list(range(0,200)))\n",
    "                           .label_from_df(cols=dep_var)\n",
    "                           .add_test(test, label=0)\n",
    "                           .databunch())"
   ]
  },
  {
   "cell_type": "code",
   "execution_count": 15,
   "metadata": {},
   "outputs": [
    {
     "data": {
      "text/html": [
       "<table border=\"1\" class=\"dataframe\">\n",
       "  <thead>\n",
       "    <tr style=\"text-align: left;\">\n",
       "      <th>epoch</th>\n",
       "      <th>train_loss</th>\n",
       "      <th>valid_loss</th>\n",
       "      <th>accuracy</th>\n",
       "      <th>time</th>\n",
       "    </tr>\n",
       "  </thead>\n",
       "  <tbody>\n",
       "    <tr>\n",
       "      <td>0</td>\n",
       "      <td>0.650393</td>\n",
       "      <td>0.699395</td>\n",
       "      <td>0.360000</td>\n",
       "      <td>00:00</td>\n",
       "    </tr>\n",
       "    <tr>\n",
       "      <td>1</td>\n",
       "      <td>0.598697</td>\n",
       "      <td>0.654059</td>\n",
       "      <td>0.720000</td>\n",
       "      <td>00:00</td>\n",
       "    </tr>\n",
       "    <tr>\n",
       "      <td>2</td>\n",
       "      <td>0.543853</td>\n",
       "      <td>0.580218</td>\n",
       "      <td>0.770000</td>\n",
       "      <td>00:00</td>\n",
       "    </tr>\n",
       "    <tr>\n",
       "      <td>3</td>\n",
       "      <td>0.500279</td>\n",
       "      <td>0.498224</td>\n",
       "      <td>0.815000</td>\n",
       "      <td>00:00</td>\n",
       "    </tr>\n",
       "    <tr>\n",
       "      <td>4</td>\n",
       "      <td>0.474088</td>\n",
       "      <td>0.448343</td>\n",
       "      <td>0.825000</td>\n",
       "      <td>00:00</td>\n",
       "    </tr>\n",
       "  </tbody>\n",
       "</table>"
      ],
      "text/plain": [
       "<IPython.core.display.HTML object>"
      ]
     },
     "metadata": {},
     "output_type": "display_data"
    }
   ],
   "source": [
    "np.random.seed(101)\n",
    "learn = tabular_learner(data, layers=[60, 20], metrics=accuracy)\n",
    "learn.fit(5)"
   ]
  },
  {
   "cell_type": "code",
   "execution_count": 16,
   "metadata": {},
   "outputs": [
    {
     "data": {
      "text/html": [
       "<table border=\"1\" class=\"dataframe\">\n",
       "  <thead>\n",
       "    <tr style=\"text-align: left;\">\n",
       "      <th>epoch</th>\n",
       "      <th>train_loss</th>\n",
       "      <th>valid_loss</th>\n",
       "      <th>accuracy</th>\n",
       "      <th>time</th>\n",
       "    </tr>\n",
       "  </thead>\n",
       "  <tbody>\n",
       "    <tr>\n",
       "      <td>0</td>\n",
       "      <td>0.405686</td>\n",
       "      <td>0.436638</td>\n",
       "      <td>0.810000</td>\n",
       "      <td>00:00</td>\n",
       "    </tr>\n",
       "    <tr>\n",
       "      <td>1</td>\n",
       "      <td>0.406351</td>\n",
       "      <td>0.433361</td>\n",
       "      <td>0.810000</td>\n",
       "      <td>00:00</td>\n",
       "    </tr>\n",
       "    <tr>\n",
       "      <td>2</td>\n",
       "      <td>0.400843</td>\n",
       "      <td>0.408105</td>\n",
       "      <td>0.830000</td>\n",
       "      <td>00:00</td>\n",
       "    </tr>\n",
       "    <tr>\n",
       "      <td>3</td>\n",
       "      <td>0.389763</td>\n",
       "      <td>0.426050</td>\n",
       "      <td>0.820000</td>\n",
       "      <td>00:00</td>\n",
       "    </tr>\n",
       "    <tr>\n",
       "      <td>4</td>\n",
       "      <td>0.390824</td>\n",
       "      <td>0.402237</td>\n",
       "      <td>0.845000</td>\n",
       "      <td>00:00</td>\n",
       "    </tr>\n",
       "  </tbody>\n",
       "</table>"
      ],
      "text/plain": [
       "<IPython.core.display.HTML object>"
      ]
     },
     "metadata": {},
     "output_type": "display_data"
    }
   ],
   "source": [
    "learn.fit(5)"
   ]
  },
  {
   "cell_type": "code",
   "execution_count": 30,
   "metadata": {},
   "outputs": [],
   "source": [
    "predictions, *_ = learn.get_preds(DatasetType.Test)\n",
    "labels = np.argmax(predictions, 1)"
   ]
  },
  {
   "cell_type": "code",
   "execution_count": 38,
   "metadata": {},
   "outputs": [
    {
     "data": {
      "image/png": "[encoded data removed]",
      "text/plain": [
       "<Figure size 432x288 with 1 Axes>"
      ]
     },
     "metadata": {
      "needs_background": "light"
     },
     "output_type": "display_data"
    }
   ],
   "source": [
    "learn.recorder.plot_losses()"
   ]
  },
  {
   "cell_type": "code",
   "execution_count": 26,
   "metadata": {},
   "outputs": [
    {
     "ename": "NameError",
     "evalue": "name 'losses' is not defined",
     "output_type": "error",
     "traceback": [
      "\u001b[0;31m---------------------------------------------------------------------------\u001b[0m",
      "\u001b[0;31mNameError\u001b[0m                                 Traceback (most recent call last)",
      "\u001b[0;32m<ipython-input-26-2bf964ee6057>\u001b[0m in \u001b[0;36m<module>\u001b[0;34m\u001b[0m\n\u001b[0;32m----> 1\u001b[0;31m \u001b[0minterp\u001b[0m \u001b[0;34m=\u001b[0m \u001b[0mClassificationInterpretation\u001b[0m\u001b[0;34m(\u001b[0m\u001b[0mlearn\u001b[0m\u001b[0;34m,\u001b[0m \u001b[0mpredictions\u001b[0m\u001b[0;34m,\u001b[0m \u001b[0my\u001b[0m\u001b[0;34m,\u001b[0m \u001b[0mlosses\u001b[0m\u001b[0;34m)\u001b[0m\u001b[0;34m\u001b[0m\u001b[0;34m\u001b[0m\u001b[0m\n\u001b[0m",
      "\u001b[0;31mNameError\u001b[0m: name 'losses' is not defined"
     ]
    }
   ],
   "source": [
    "interp = ClassificationInterpretation(learn, predictions, y, losses)"
   ]
  },
  {
   "cell_type": "code",
   "execution_count": 303,
   "metadata": {},
   "outputs": [],
   "source": [
    "sub_df = pd.DataFrame({'PassengerId': test_df['PassengerId'], 'Survived': labels})\n",
    "sub_df.to_csv('submission.csv', index=False)"
   ]
  },
  {
   "cell_type": "code",
   "execution_count": 304,
   "metadata": {},
   "outputs": [
    {
     "data": {
      "text/html": [
       "<div>\n",
       "<style scoped>\n",
       "    .dataframe tbody tr th:only-of-type {\n",
       "        vertical-align: middle;\n",
       "    }\n",
       "\n",
       "    .dataframe tbody tr th {\n",
       "        vertical-align: top;\n",
       "    }\n",
       "\n",
       "    .dataframe thead th {\n",
       "        text-align: right;\n",
       "    }\n",
       "</style>\n",
       "<table border=\"1\" class=\"dataframe\">\n",
       "  <thead>\n",
       "    <tr style=\"text-align: right;\">\n",
       "      <th></th>\n",
       "      <th>PassengerId</th>\n",
       "      <th>Survived</th>\n",
       "    </tr>\n",
       "  </thead>\n",
       "  <tbody>\n",
       "    <tr>\n",
       "      <th>0</th>\n",
       "      <td>892</td>\n",
       "      <td>0</td>\n",
       "    </tr>\n",
       "    <tr>\n",
       "      <th>1</th>\n",
       "      <td>893</td>\n",
       "      <td>1</td>\n",
       "    </tr>\n",
       "    <tr>\n",
       "      <th>2</th>\n",
       "      <td>894</td>\n",
       "      <td>0</td>\n",
       "    </tr>\n",
       "    <tr>\n",
       "      <th>3</th>\n",
       "      <td>895</td>\n",
       "      <td>0</td>\n",
       "    </tr>\n",
       "    <tr>\n",
       "      <th>4</th>\n",
       "      <td>896</td>\n",
       "      <td>0</td>\n",
       "    </tr>\n",
       "  </tbody>\n",
       "</table>\n",
       "</div>"
      ],
      "text/plain": [
       "   PassengerId  Survived\n",
       "0          892         0\n",
       "1          893         1\n",
       "2          894         0\n",
       "3          895         0\n",
       "4          896         0"
      ]
     },
     "execution_count": 304,
     "metadata": {},
     "output_type": "execute_result"
    }
   ],
   "source": [
    "sub_df.head()"
   ]
  },
  {
   "cell_type": "code",
   "execution_count": 278,
   "metadata": {},
   "outputs": [],
   "source": [
    "from IPython.display import HTML\n",
    "import base64\n",
    "\n",
    "def create_download_link( df, title = \"Download CSV file\", filename = \"data.csv\"):  \n",
    "    csv = df.to_csv()\n",
    "    b64 = base64.b64encode(csv.encode())\n",
    "    payload = b64.decode()\n",
    "    html = f'<a download=\"{filename}\" href=\"data:text/csv;base64,{payload}\" target=\"_blank\">{title}</a>'\n",
    "    return HTML(html)"
   ]
  },
  {
   "cell_type": "code",
   "execution_count": 279,
   "metadata": {},
   "outputs": [
    {
     "data": {
      "text/html": [
       "<a download=\"data.csv\" href=\"data:text/csv;base64,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\" target=\"_blank\">Download CSV file</a>"
      ],
      "text/plain": [
       "<IPython.core.display.HTML object>"
      ]
     },
     "execution_count": 279,
     "metadata": {},
     "output_type": "execute_result"
    }
   ],
   "source": [
    "create_download_link(sub_df)"
   ]
  },
  {
   "cell_type": "code",
   "execution_count": 21,
   "metadata": {},
   "outputs": [],
   "source": []
  },
  {
   "cell_type": "code",
   "execution_count": null,
   "metadata": {},
   "outputs": [],
   "source": []
  }
 ],
 "metadata": {
  "kernelspec": {
   "display_name": "Python 3",
   "language": "python",
   "name": "python3"
  },
  "language_info": {
   "codemirror_mode": {
    "name": "ipython",
    "version": 3
   },
   "file_extension": ".py",
   "mimetype": "text/x-python",
   "name": "python",
   "nbconvert_exporter": "python",
   "pygments_lexer": "ipython3",
   "version": "3.7.4"
  }
 },
 "nbformat": 4,
 "nbformat_minor": 2
}
